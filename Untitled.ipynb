{
 "cells": [
  {
   "cell_type": "code",
   "execution_count": 9,
   "id": "7af6876a-dae2-45db-ab8f-99af26380d8e",
   "metadata": {},
   "outputs": [],
   "source": [
    "## Title\n",
    "\n",
    "## Author: Minji Park"
   ]
  },
  {
   "cell_type": "code",
   "execution_count": 4,
   "id": "38db389d-efe6-4402-90d7-2e269c8e5050",
   "metadata": {},
   "outputs": [],
   "source": [
    "import numpy as np"
   ]
  },
  {
   "cell_type": "code",
   "execution_count": 6,
   "id": "fe70ca39-fc98-4656-bf30-fdca3bc57f06",
   "metadata": {},
   "outputs": [],
   "source": [
    "test = np.linspace(1, 100, 10)"
   ]
  },
  {
   "cell_type": "code",
   "execution_count": 7,
   "id": "beeae664-17de-4792-8963-c178f3384573",
   "metadata": {},
   "outputs": [
    {
     "data": {
      "text/plain": [
       "array([  1.,  12.,  23.,  34.,  45.,  56.,  67.,  78.,  89., 100.])"
      ]
     },
     "execution_count": 7,
     "metadata": {},
     "output_type": "execute_result"
    }
   ],
   "source": [
    "test"
   ]
  },
  {
   "cell_type": "code",
   "execution_count": 8,
   "id": "e6814ea1-9762-4606-8c87-0471b66f2f19",
   "metadata": {},
   "outputs": [
    {
     "data": {
      "text/plain": [
       "numpy.ndarray"
      ]
     },
     "execution_count": 8,
     "metadata": {},
     "output_type": "execute_result"
    }
   ],
   "source": [
    "type(test)"
   ]
  },
  {
   "cell_type": "code",
   "execution_count": null,
   "id": "694a1348-d62b-4e9a-9a25-5f4fbc4d77c3",
   "metadata": {},
   "outputs": [],
   "source": []
  }
 ],
 "metadata": {
  "jupytext": {
   "formats": "ipynb,md"
  },
  "kernelspec": {
   "display_name": "Python 3 (ipykernel)",
   "language": "python",
   "name": "python3"
  },
  "language_info": {
   "codemirror_mode": {
    "name": "ipython",
    "version": 3
   },
   "file_extension": ".py",
   "mimetype": "text/x-python",
   "name": "python",
   "nbconvert_exporter": "python",
   "pygments_lexer": "ipython3",
   "version": "3.9.9"
  }
 },
 "nbformat": 4,
 "nbformat_minor": 5
}
